{
 "cells": [
  {
   "cell_type": "code",
   "execution_count": 1,
   "metadata": {},
   "outputs": [],
   "source": [
    "import numpy as np\n",
    "import math"
   ]
  },
  {
   "cell_type": "code",
   "execution_count": 2,
   "metadata": {},
   "outputs": [],
   "source": [
    "def arcsin(x):\n",
    "    n_max=100\n",
    "    error_critertion=0.5*10**-5\n",
    "    error_s= error_critertion\n",
    "    n = 1\n",
    "    result= 0\n",
    "    while error_s >=error_critertion and n <=n_max:\n",
    "        upper_part = (2*x)**(2*n) \n",
    "        lower_part = (n**2)*(math.factorial(2*n)/(math.factorial(n))**2)\n",
    "        term       = upper_part / lower_part   \n",
    "        result += term\n",
    "        n += 1\n",
    "        error_s= abs(term/result)\n",
    "    return np.sqrt(0.5*result)"
   ]
  },
  {
   "cell_type": "code",
   "execution_count": 3,
   "metadata": {},
   "outputs": [
    {
     "name": "stdout",
     "output_type": "stream",
     "text": [
      "0.5235987755982989\n",
      "0.5235986213465922\n"
     ]
    }
   ],
   "source": [
    "print(np.arcsin(0.5))\n",
    "print(arcsin(0.5))"
   ]
  },
  {
   "cell_type": "code",
   "execution_count": 4,
   "metadata": {},
   "outputs": [
    {
     "name": "stdout",
     "output_type": "stream",
     "text": [
      "0.5931994844195608\n"
     ]
    }
   ],
   "source": [
    "def launch_angle(ve_v0, alpha):\n",
    "    \"\"\"Calculate the launch angle from vertical given\n",
    "    velocity ratio and target altitude ratio.\n",
    "    \"\"\"\n",
    "    sin_launch_angle = (1 + alpha) * np.sqrt(1 - (alpha / (1 + alpha)) * (ve_v0**2))\n",
    "    launch_angle = arcsin(sin_launch_angle)\n",
    "    return launch_angle #return the angle in degrees\n",
    "\n",
    "#test value for launch_angle\n",
    "print(launch_angle(2, 0.25))"
   ]
  },
  {
   "cell_type": "code",
   "execution_count": 11,
   "metadata": {},
   "outputs": [
    {
     "name": "stdout",
     "output_type": "stream",
     "text": [
      "[0.57408873 0.61185946]\n"
     ]
    }
   ],
   "source": [
    "def launch_angle_range(ve_v0, alpha, tol_alpha):\n",
    "    \"\"\"Calculate the range of launch angles for a given\n",
    "    velocity ratio, target altitude ratio, and tolerance.\n",
    "    \"\"\"\n",
    "    max_altitude_ratio_min_launch_angle = (1 + tol_alpha) * alpha\n",
    "    max_launch_angle = launch_angle(ve_v0, max_altitude_ratio_min_launch_angle)\n",
    "    max_altitude_ratio_max_launch_angle = (1 - tol_alpha) * alpha\n",
    "    min_launch_angle = launch_angle(ve_v0, max_altitude_ratio_max_launch_angle)\n",
    "    launch_angle_range = np.array([max_launch_angle, min_launch_angle])\n",
    "    return launch_angle_range\n",
    "\n",
    "#test value for launch_angle_range\n",
    "print(launch_angle_range(2, 0.25, 0.02))"
   ]
  },
  {
   "cell_type": "code",
   "execution_count": 6,
   "metadata": {},
   "outputs": [
    {
     "name": "stdout",
     "output_type": "stream",
     "text": [
      "-0.6666666666666666\n"
     ]
    }
   ],
   "source": [
    "def min_altitude_ratio(ve_v0):  \n",
    "    \"\"\"Utility function for computing minimum possible peak altitude ratio\n",
    "    for a given velocity ratio.\n",
    "    \"\"\"\n",
    "    alpha = -(ve_v0**2 - 2) / (ve_v0**2 - 1)\n",
    "    #make sure alpha is not greater than 1\n",
    "    \n",
    "    return alpha\n",
    "#test value for min_altitude_ratio\n",
    "print(min_altitude_ratio(2))"
   ]
  },
  {
   "cell_type": "code",
   "execution_count": 7,
   "metadata": {},
   "outputs": [
    {
     "name": "stdout",
     "output_type": "stream",
     "text": [
      "0.3333333333333333\n"
     ]
    }
   ],
   "source": [
    "def max_altitude_ratio(ve_v0):\n",
    "    \"\"\"Utility function for computing maximum possible peak altitude ratio\n",
    "    for a given velocity ratio.\n",
    "    \"\"\"\n",
    "    alpha = 1/((ve_v0**2)-1)\n",
    "    return alpha \n",
    "#test value for max_altitude_ratio\n",
    "print(max_altitude_ratio(2))"
   ]
  },
  {
   "cell_type": "code",
   "execution_count": 8,
   "metadata": {},
   "outputs": [
    {
     "name": "stdout",
     "output_type": "stream",
     "text": [
      "1.3416407864998738\n"
     ]
    }
   ],
   "source": [
    "def min_velocity_ratio(alpha):\n",
    "    \"\"\"Utility function for computing minimum possible velocity ratio\n",
    "    for a given target peak altitude ratio.\n",
    "    \"\"\"\n",
    "    ve_v0 = np.sqrt((2+alpha)/(1+alpha))\n",
    "    return ve_v0\n",
    "\n",
    "#test value for min_velocity_ratio\n",
    "print(min_velocity_ratio(0.25))"
   ]
  },
  {
   "cell_type": "code",
   "execution_count": 9,
   "metadata": {},
   "outputs": [
    {
     "name": "stdout",
     "output_type": "stream",
     "text": [
      "2.23606797749979\n"
     ]
    }
   ],
   "source": [
    "def max_velocity_ratio(alpha):\n",
    "    \"\"\"Utility function for computing maximum possible velocity ratio\n",
    "    for a given target peak altitude ratio.\n",
    "    \"\"\"\n",
    "    ve_v0 = np.sqrt((1+alpha)/alpha)\n",
    "    return ve_v0\n",
    "#test value for max_velocity_ratio\n",
    "print(max_velocity_ratio(0.25))"
   ]
  },
  {
   "cell_type": "code",
   "execution_count": 10,
   "metadata": {},
   "outputs": [
    {
     "ename": "ZeroDivisionError",
     "evalue": "float division by zero",
     "output_type": "error",
     "traceback": [
      "\u001b[1;31m---------------------------------------------------------------------------\u001b[0m",
      "\u001b[1;31mZeroDivisionError\u001b[0m                         Traceback (most recent call last)",
      "\u001b[1;32me:\\goph_419\\lab01\\goph419-f2023-lab01-DQ\\src\\test.ipynb Cell 10\u001b[0m line \u001b[0;36m9\n\u001b[0;32m      <a href='vscode-notebook-cell:/e%3A/goph_419/lab01/goph419-f2023-lab01-DQ/src/test.ipynb#X15sZmlsZQ%3D%3D?line=5'>6</a>\u001b[0m x \u001b[39m=\u001b[39m np\u001b[39m.\u001b[39mlinspace(\u001b[39m0\u001b[39m,\u001b[39m1\u001b[39m,\u001b[39m100\u001b[39m)\n\u001b[0;32m      <a href='vscode-notebook-cell:/e%3A/goph_419/lab01/goph419-f2023-lab01-DQ/src/test.ipynb#X15sZmlsZQ%3D%3D?line=7'>8</a>\u001b[0m min_launch_angle \u001b[39m=\u001b[39m launch_angle_range(ve_v0, min_altitude_ratio(ve_v0), tol_alpha)[\u001b[39m0\u001b[39m]\n\u001b[1;32m----> <a href='vscode-notebook-cell:/e%3A/goph_419/lab01/goph419-f2023-lab01-DQ/src/test.ipynb#X15sZmlsZQ%3D%3D?line=8'>9</a>\u001b[0m max_launch_angle \u001b[39m=\u001b[39m launch_angle_range(ve_v0, max_altitude_ratio(ve_v0), tol_alpha)[\u001b[39m1\u001b[39m]\n\u001b[0;32m     <a href='vscode-notebook-cell:/e%3A/goph_419/lab01/goph419-f2023-lab01-DQ/src/test.ipynb#X15sZmlsZQ%3D%3D?line=9'>10</a>\u001b[0m y \u001b[39m=\u001b[39m np\u001b[39m.\u001b[39mlinspace(min_launch_angle,max_launch_angle,\u001b[39m100\u001b[39m)\n\u001b[0;32m     <a href='vscode-notebook-cell:/e%3A/goph_419/lab01/goph419-f2023-lab01-DQ/src/test.ipynb#X15sZmlsZQ%3D%3D?line=10'>11</a>\u001b[0m plt\u001b[39m.\u001b[39mplot(x,y)\n",
      "\u001b[1;32me:\\goph_419\\lab01\\goph419-f2023-lab01-DQ\\src\\test.ipynb Cell 10\u001b[0m line \u001b[0;36m8\n\u001b[0;32m      <a href='vscode-notebook-cell:/e%3A/goph_419/lab01/goph419-f2023-lab01-DQ/src/test.ipynb#X15sZmlsZQ%3D%3D?line=5'>6</a>\u001b[0m max_altitude_ratio \u001b[39m=\u001b[39m (\u001b[39m1\u001b[39m \u001b[39m-\u001b[39m tol_alpha) \u001b[39m*\u001b[39m alpha\n\u001b[0;32m      <a href='vscode-notebook-cell:/e%3A/goph_419/lab01/goph419-f2023-lab01-DQ/src/test.ipynb#X15sZmlsZQ%3D%3D?line=6'>7</a>\u001b[0m max_launch_angle \u001b[39m=\u001b[39m launch_angle(ve_v0, min_altitude_ratio)\n\u001b[1;32m----> <a href='vscode-notebook-cell:/e%3A/goph_419/lab01/goph419-f2023-lab01-DQ/src/test.ipynb#X15sZmlsZQ%3D%3D?line=7'>8</a>\u001b[0m min_launch_angle \u001b[39m=\u001b[39m launch_angle(ve_v0, max_altitude_ratio)\n\u001b[0;32m      <a href='vscode-notebook-cell:/e%3A/goph_419/lab01/goph419-f2023-lab01-DQ/src/test.ipynb#X15sZmlsZQ%3D%3D?line=8'>9</a>\u001b[0m launch_angle_range \u001b[39m=\u001b[39m np\u001b[39m.\u001b[39marray([max_launch_angle, min_launch_angle])\n\u001b[0;32m     <a href='vscode-notebook-cell:/e%3A/goph_419/lab01/goph419-f2023-lab01-DQ/src/test.ipynb#X15sZmlsZQ%3D%3D?line=9'>10</a>\u001b[0m \u001b[39mreturn\u001b[39;00m launch_angle_range\n",
      "\u001b[1;32me:\\goph_419\\lab01\\goph419-f2023-lab01-DQ\\src\\test.ipynb Cell 10\u001b[0m line \u001b[0;36m5\n\u001b[0;32m      <a href='vscode-notebook-cell:/e%3A/goph_419/lab01/goph419-f2023-lab01-DQ/src/test.ipynb#X15sZmlsZQ%3D%3D?line=0'>1</a>\u001b[0m \u001b[39mdef\u001b[39;00m \u001b[39mlaunch_angle\u001b[39m(ve_v0, alpha):\n\u001b[0;32m      <a href='vscode-notebook-cell:/e%3A/goph_419/lab01/goph419-f2023-lab01-DQ/src/test.ipynb#X15sZmlsZQ%3D%3D?line=1'>2</a>\u001b[0m \u001b[39m    \u001b[39m\u001b[39m\"\"\"Calculate the launch angle from vertical given\u001b[39;00m\n\u001b[0;32m      <a href='vscode-notebook-cell:/e%3A/goph_419/lab01/goph419-f2023-lab01-DQ/src/test.ipynb#X15sZmlsZQ%3D%3D?line=2'>3</a>\u001b[0m \u001b[39m    velocity ratio and target altitude ratio.\u001b[39;00m\n\u001b[0;32m      <a href='vscode-notebook-cell:/e%3A/goph_419/lab01/goph419-f2023-lab01-DQ/src/test.ipynb#X15sZmlsZQ%3D%3D?line=3'>4</a>\u001b[0m \u001b[39m    \"\"\"\u001b[39;00m\n\u001b[1;32m----> <a href='vscode-notebook-cell:/e%3A/goph_419/lab01/goph419-f2023-lab01-DQ/src/test.ipynb#X15sZmlsZQ%3D%3D?line=4'>5</a>\u001b[0m     sin_launch_angle \u001b[39m=\u001b[39m (\u001b[39m1\u001b[39m \u001b[39m+\u001b[39m alpha) \u001b[39m*\u001b[39m np\u001b[39m.\u001b[39msqrt(\u001b[39m1\u001b[39m \u001b[39m-\u001b[39m (alpha \u001b[39m/\u001b[39;49m (\u001b[39m1\u001b[39;49m \u001b[39m+\u001b[39;49m alpha)) \u001b[39m*\u001b[39m (ve_v0\u001b[39m*\u001b[39m\u001b[39m*\u001b[39m\u001b[39m2\u001b[39m))\n\u001b[0;32m      <a href='vscode-notebook-cell:/e%3A/goph_419/lab01/goph419-f2023-lab01-DQ/src/test.ipynb#X15sZmlsZQ%3D%3D?line=5'>6</a>\u001b[0m     launch_angle \u001b[39m=\u001b[39m arcsin(sin_launch_angle)\n\u001b[0;32m      <a href='vscode-notebook-cell:/e%3A/goph_419/lab01/goph419-f2023-lab01-DQ/src/test.ipynb#X15sZmlsZQ%3D%3D?line=6'>7</a>\u001b[0m     \u001b[39mreturn\u001b[39;00m launch_angle\n",
      "\u001b[1;31mZeroDivisionError\u001b[0m: float division by zero"
     ]
    }
   ],
   "source": [
    "import matplotlib.pyplot as plt\n",
    "\n",
    "ve_v0 = 0.2\n",
    "tol_alpha = 0.04\n",
    "# plot launch angle range for a fixed velocity ratio\n",
    "x = np.linspace(0,1,100)\n",
    "plt.plot(x,y)"
   ]
  }
 ],
 "metadata": {
  "kernelspec": {
   "display_name": "Python 3",
   "language": "python",
   "name": "python3"
  },
  "language_info": {
   "codemirror_mode": {
    "name": "ipython",
    "version": 3
   },
   "file_extension": ".py",
   "mimetype": "text/x-python",
   "name": "python",
   "nbconvert_exporter": "python",
   "pygments_lexer": "ipython3",
   "version": "3.11.5"
  },
  "orig_nbformat": 4
 },
 "nbformat": 4,
 "nbformat_minor": 2
}
