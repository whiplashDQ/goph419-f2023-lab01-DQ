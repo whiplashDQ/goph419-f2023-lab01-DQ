{
 "cells": [
  {
   "cell_type": "code",
   "execution_count": 2,
   "metadata": {},
   "outputs": [
    {
     "ename": "ModuleNotFoundError",
     "evalue": "No module named 'numpy'",
     "output_type": "error",
     "traceback": [
      "\u001b[1;31m---------------------------------------------------------------------------\u001b[0m",
      "\u001b[1;31mModuleNotFoundError\u001b[0m                       Traceback (most recent call last)",
      "\u001b[1;32me:\\goph_419\\lab01\\goph419-f2023-lab01-DQ\\src\\test.ipynb Cell 1\u001b[0m line \u001b[0;36m1\n\u001b[1;32m----> <a href='vscode-notebook-cell:/e%3A/goph_419/lab01/goph419-f2023-lab01-DQ/src/test.ipynb#W0sZmlsZQ%3D%3D?line=0'>1</a>\u001b[0m \u001b[39mimport\u001b[39;00m \u001b[39mnumpy\u001b[39;00m \u001b[39mas\u001b[39;00m \u001b[39mnp\u001b[39;00m\n\u001b[0;32m      <a href='vscode-notebook-cell:/e%3A/goph_419/lab01/goph419-f2023-lab01-DQ/src/test.ipynb#W0sZmlsZQ%3D%3D?line=1'>2</a>\u001b[0m \u001b[39mimport\u001b[39;00m \u001b[39mmath\u001b[39;00m\n",
      "\u001b[1;31mModuleNotFoundError\u001b[0m: No module named 'numpy'"
     ]
    }
   ],
   "source": [
    "import numpy as np\n",
    "import math"
   ]
  },
  {
   "cell_type": "code",
   "execution_count": null,
   "metadata": {},
   "outputs": [],
   "source": [
    "def arcsin(x):\n",
    "    n_max=100\n",
    "    error_critertion=0.5*10**-8\n",
    "    error_s= error_critertion\n",
    "    n = 1\n",
    "    result= 0\n",
    "    while error_s >=error_critertion and n <=n_max:\n",
    "        upper_part = (2*x)**(2*n) \n",
    "        lower_part = (n**2)*(math.factorial(2*n)/(math.factorial(n))**2)\n",
    "        term       = upper_part / lower_part   \n",
    "        result += term\n",
    "        n += 1\n",
    "        error_s= abs(term/result)\n",
    "    return np.sqrt(0.5*result)"
   ]
  },
  {
   "cell_type": "code",
   "execution_count": null,
   "metadata": {},
   "outputs": [],
   "source": [
    "print(np.arcsin(0.5))\n",
    "print(arcsin(0.5))"
   ]
  },
  {
   "cell_type": "code",
   "execution_count": null,
   "metadata": {},
   "outputs": [],
   "source": [
    "def launch_angle(ve_v0, alpha):\n",
    "    \"\"\"Calculate the launch angle from vertical given\n",
    "    velocity ratio and target altitude ratio.\n",
    "    \"\"\"\n",
    "    sin_launch_angle = (1 + alpha) * np.sqrt(1 - (alpha / (1 + alpha)) * (ve_v0**2))\n",
    "    launch_angle = arcsin(sin_launch_angle)\n",
    "    return launch_angle #return as the radian of the launch angle\n",
    "\n",
    "#test value for launch_angle\n",
    "print(launch_angle(2, -0.666))\n",
    "\n",
    "print(np.degrees(arcsin(launch_angle(2, -0.666))))"
   ]
  },
  {
   "cell_type": "code",
   "execution_count": null,
   "metadata": {},
   "outputs": [],
   "source": [
    "def launch_angle_range(ve_v0, alpha, tol_alpha):\n",
    "    \"\"\"Calculate the range of launch angles for a given\n",
    "    velocity ratio, target altitude ratio, and tolerance.\n",
    "    \"\"\"\n",
    "    max_altitude_ratio_min_launch_angle = (1 + tol_alpha) * alpha\n",
    "    max_launch_angle = launch_angle(ve_v0, max_altitude_ratio_min_launch_angle)\n",
    "    max_altitude_ratio_max_launch_angle = (1 - tol_alpha) * alpha\n",
    "    min_launch_angle = launch_angle(ve_v0, max_altitude_ratio_max_launch_angle)\n",
    "    launch_angle_range = np.array([max_launch_angle, min_launch_angle])\n",
    "    return launch_angle_range\n",
    "\n",
    "#test value for launch_angle_range\n",
    "print(launch_angle_range(2, 0.25, 0.04))"
   ]
  },
  {
   "cell_type": "code",
   "execution_count": null,
   "metadata": {},
   "outputs": [],
   "source": [
    "def min_altitude_ratio(ve_v0):  \n",
    "    \"\"\"Utility function for computing minimum possible peak altitude ratio\n",
    "    for a given velocity ratio.\n",
    "    \"\"\"\n",
    "    alpha = (ve_v0**2 -2) / (1 - ve_v0**2 )\n",
    "    if alpha < 0:\n",
    "        alpha = 0\n",
    "    return alpha\n",
    "    #make sure alpha is not greater than 1\n",
    "\n",
    "#test value for min_altitude_ratio\n",
    "print(min_altitude_ratio(2))"
   ]
  },
  {
   "cell_type": "code",
   "execution_count": null,
   "metadata": {},
   "outputs": [],
   "source": [
    "def max_altitude_ratio(ve_v0):\n",
    "    \"\"\"Utility function for computing maximum possible peak altitude ratio\n",
    "    for a given velocity ratio.\n",
    "    \"\"\"\n",
    "    alpha = -1 / ( 1 - (ve_v0**2)) \n",
    "    return alpha \n",
    "#test value for max_altitude_ratio\n",
    "print(max_altitude_ratio(2))"
   ]
  },
  {
   "cell_type": "code",
   "execution_count": null,
   "metadata": {},
   "outputs": [],
   "source": [
    "def min_velocity_ratio(alpha):\n",
    "    \"\"\"Utility function for computing minimum possible velocity ratio\n",
    "    for a given target peak altitude ratio.\n",
    "    \"\"\"\n",
    "    ve_v0 = np.sqrt((2+alpha)/(1+alpha))\n",
    "    return ve_v0\n",
    "\n",
    "#test value for min_velocity_ratio\n",
    "print(min_velocity_ratio(0.25))"
   ]
  },
  {
   "cell_type": "code",
   "execution_count": null,
   "metadata": {},
   "outputs": [],
   "source": [
    "def max_velocity_ratio(alpha):\n",
    "    \"\"\"Utility function for computing maximum possible velocity ratio\n",
    "    for a given target peak altitude ratio.\n",
    "    \"\"\"\n",
    "    ve_v0 = np.sqrt((1+alpha)/alpha)\n",
    "    return ve_v0\n",
    "#test value for max_velocity_ratio\n",
    "print(max_velocity_ratio(0.25))"
   ]
  },
  {
   "cell_type": "code",
   "execution_count": null,
   "metadata": {},
   "outputs": [],
   "source": [
    "import matplotlib.pyplot as plt\n",
    "\n",
    "ve_v0 = 0.2\n",
    "tol_alpha = 0.04\n",
    "# plot launch angle range for a fixed velocity ratio\n",
    "x = np.linspace(0,1,100)\n",
    "plt.plot(x,y)"
   ]
  }
 ],
 "metadata": {
  "kernelspec": {
   "display_name": "Python 3",
   "language": "python",
   "name": "python3"
  },
  "language_info": {
   "codemirror_mode": {
    "name": "ipython",
    "version": 3
   },
   "file_extension": ".py",
   "mimetype": "text/x-python",
   "name": "python",
   "nbconvert_exporter": "python",
   "pygments_lexer": "ipython3",
   "version": "3.11.0b4"
  },
  "orig_nbformat": 4
 },
 "nbformat": 4,
 "nbformat_minor": 2
}
